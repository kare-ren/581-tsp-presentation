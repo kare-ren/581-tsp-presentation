{
 "cells": [
  {
   "cell_type": "code",
   "execution_count": 1,
   "metadata": {},
   "outputs": [],
   "source": [
    "import numpy as np\n",
    "from scipy import spatial\n",
    "import math"
   ]
  },
  {
   "cell_type": "code",
   "execution_count": 2,
   "metadata": {},
   "outputs": [],
   "source": [
    "def nearest_neighbor(cities):\n",
    "    \"\"\"\n",
    "    Nearest neighbor algorithm for the traveling salesman problem.\n",
    "    \"\"\"\n",
    "    path = [0] * len(cities)\n",
    "    visited = [False] * len(cities)\n",
    "    visited[0] = True\n",
    "    path[0] = 0\n",
    "\n",
    "    # Find nearest neighbor for each city\n",
    "    for i in range(1, len(cities)):\n",
    "        min_distance = math.inf\n",
    "        for j in range(1, len(cities)):\n",
    "            if not visited[j]:\n",
    "                distance = math.sqrt((cities[path[i-1]][0] - cities[j][0])**2 + (cities[path[i-1]][1] - cities[j][1])**2)\n",
    "                if distance < min_distance:\n",
    "                    min_distance = distance\n",
    "                    path[i] = j\n",
    "        visited[path[i]] = True\n",
    "\n",
    "    # Add the last leg of the trip\n",
    "    path.append(path[0])\n",
    "\n",
    "    # Calculate the total distance\n",
    "    distance = 0\n",
    "    for i in range(len(cities)):\n",
    "        distance += math.sqrt((cities[path[i-1]][0] - cities[path[i]][0])**2 + (cities[path[i-1]][1] - cities[path[i]][1])**2)\n",
    "\n",
    "    return path, distance"
   ]
  },
  {
   "cell_type": "code",
   "execution_count": 3,
   "metadata": {},
   "outputs": [
    {
     "name": "stdout",
     "output_type": "stream",
     "text": [
      "Path: [0, 1, 2, 3, 4, 5, 6, 0]\n",
      "Distance: 8.485281374238571\n"
     ]
    }
   ],
   "source": [
    "cities = [(0,0), (1,1), (2,2), (3,3), (4,4), (5,5), (6,6)]\n",
    "path, distance = nearest_neighbor(cities)\n",
    "print(f\"Path: {path}\")\n",
    "print(f\"Distance: {distance}\")"
   ]
  },
  {
   "cell_type": "code",
   "execution_count": 4,
   "metadata": {},
   "outputs": [
    {
     "name": "stdout",
     "output_type": "stream",
     "text": [
      "[[0.         0.8393813  0.63289823 0.91044405 0.13982503 0.53125215\n",
      "  0.19415874 0.45355494 0.71738486 0.76357085]\n",
      " [0.8393813  0.         0.46257463 0.87018607 0.73974505 0.67343888\n",
      "  0.73434913 0.97679978 0.60380131 0.77225231]\n",
      " [0.63289823 0.46257463 0.         0.4449437  0.49486304 0.79940567\n",
      "  0.45296416 0.56737002 0.16227607 0.32129065]\n",
      " [0.91044405 0.87018607 0.4449437  0.         0.77899959 1.21873008\n",
      "  0.71868087 0.59036724 0.2827186  0.15004689]\n",
      " [0.13982503 0.73974505 0.49486304 0.77899959 0.         0.55956828\n",
      "  0.06197701 0.38409714 0.57792094 0.63056286]\n",
      " [0.53125215 0.67343888 0.79940567 1.21873008 0.55956828 0.\n",
      "  0.61031142 0.94348593 0.95073891 1.07299659]\n",
      " [0.19415874 0.73434913 0.45296416 0.71868087 0.06197701 0.61031142\n",
      "  0.         0.33489974 0.52503366 0.5707835 ]\n",
      " [0.45355494 0.97679978 0.56737002 0.59036724 0.38409714 0.94348593\n",
      "  0.33489974 0.         0.53779318 0.47741846]\n",
      " [0.71738486 0.60380131 0.16227607 0.2827186  0.57792094 0.95073891\n",
      "  0.52503366 0.53779318 0.         0.16854044]\n",
      " [0.76357085 0.77225231 0.32129065 0.15004689 0.63056286 1.07299659\n",
      "  0.5707835  0.47741846 0.16854044 0.        ]]\n"
     ]
    }
   ],
   "source": [
    "num_points = 10\n",
    "points_coordinate = np.random.rand(num_points, 2)  # generate coordinate of points\n",
    "distance_matrix = spatial.distance.cdist(points_coordinate, points_coordinate, metric='euclidean')\n",
    "print(distance_matrix)"
   ]
  },
  {
   "cell_type": "code",
   "execution_count": 5,
   "metadata": {},
   "outputs": [],
   "source": [
    "def nearest_neighbor(distance_matrix):\n",
    "    \"\"\"\n",
    "    Nearest neighbor algorithm for the traveling salesman problem.\n",
    "    \"\"\"\n",
    "    n = distance_matrix.shape[0]\n",
    "    path = [0] * n\n",
    "    visited = [False] * n\n",
    "    visited[0] = True\n",
    "    path[0] = 0\n",
    "\n",
    "    # Find nearest neighbor for each city\n",
    "    for i in range(1, n):\n",
    "        min_distance = np.inf\n",
    "        for j in range(n):\n",
    "            if not visited[j] and distance_matrix[path[i-1]][j] < min_distance:\n",
    "                min_distance = distance_matrix[path[i-1]][j]\n",
    "                path[i] = j\n",
    "        visited[path[i]] = True\n",
    "\n",
    "    # Add the last leg of the trip\n",
    "    path.append(path[0])\n",
    "\n",
    "    # Calculate the total distance\n",
    "    distance = sum(distance_matrix[path[i-1]][path[i]] for i in range(n))\n",
    "\n",
    "    return path, distance"
   ]
  },
  {
   "cell_type": "code",
   "execution_count": 6,
   "metadata": {},
   "outputs": [
    {
     "name": "stdout",
     "output_type": "stream",
     "text": [
      "Path: [0, 4, 6, 7, 9, 3, 8, 2, 1, 5, 0]\n",
      "Distance: 2.7451752961607974\n"
     ]
    }
   ],
   "source": [
    "path, distance = nearest_neighbor(distance_matrix)\n",
    "print(f\"Path: {path}\")\n",
    "print(f\"Distance: {distance}\")"
   ]
  }
 ],
 "metadata": {
  "kernelspec": {
   "display_name": "base",
   "language": "python",
   "name": "python3"
  },
  "language_info": {
   "codemirror_mode": {
    "name": "ipython",
    "version": 3
   },
   "file_extension": ".py",
   "mimetype": "text/x-python",
   "name": "python",
   "nbconvert_exporter": "python",
   "pygments_lexer": "ipython3",
   "version": "3.9.13"
  },
  "orig_nbformat": 4
 },
 "nbformat": 4,
 "nbformat_minor": 2
}
